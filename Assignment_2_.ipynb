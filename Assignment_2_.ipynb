{
  "nbformat": 4,
  "nbformat_minor": 0,
  "metadata": {
    "colab": {
      "name": "Assignment_2 .ipynb",
      "provenance": [],
      "collapsed_sections": [],
      "machine_shape": "hm",
      "include_colab_link": true
    },
    "kernelspec": {
      "name": "python3",
      "display_name": "Python 3"
    },
    "accelerator": "GPU"
  },
  "cells": [
    {
      "cell_type": "markdown",
      "metadata": {
        "id": "view-in-github",
        "colab_type": "text"
      },
      "source": [
        "<a href=\"https://colab.research.google.com/github/shreddy1/NLP/blob/master/Assignment_2_.ipynb\" target=\"_parent\"><img src=\"https://colab.research.google.com/assets/colab-badge.svg\" alt=\"Open In Colab\"/></a>"
      ]
    },
    {
      "cell_type": "code",
      "metadata": {
        "id": "UEX3uMXfjK1k",
        "colab_type": "code",
        "outputId": "283bc8fa-a582-4403-8228-6abddd8ee4a7",
        "colab": {
          "base_uri": "https://localhost:8080/",
          "height": 85
        }
      },
      "source": [
        "import pandas as pd\n",
        "import numpy as np\n",
        "import matplotlib.pyplot as plt\n",
        "\n",
        "from sklearn.model_selection import train_test_split\n",
        "# from sklearn.feature_extraction.stop_words import ENGLISH_STOP_WORDS \n",
        "from sklearn.feature_extraction.text import TfidfVectorizer, CountVectorizer,TfidfTransformer\n",
        "from sklearn import metrics\n",
        "\n",
        "import nltk\n",
        "from nltk.stem import PorterStemmer, LancasterStemmer, WordNetLemmatizer\n",
        "from nltk.corpus import stopwords\n",
        "nltk.download('wordnet')\n",
        "nltk.download('stopwords')\n",
        "\n",
        "import keras\n",
        "from keras import backend as K\n",
        "from keras.models import Sequential\n",
        "from keras.layers import Conv1D, MaxPooling1D, Dense, Dropout, Flatten, Embedding\n",
        "from keras.layers import Activation, Conv1D, GlobalMaxPooling1D\n",
        "from keras import optimizers\n"
      ],
      "execution_count": 148,
      "outputs": [
        {
          "output_type": "stream",
          "text": [
            "[nltk_data] Downloading package wordnet to /root/nltk_data...\n",
            "[nltk_data]   Package wordnet is already up-to-date!\n",
            "[nltk_data] Downloading package stopwords to /root/nltk_data...\n",
            "[nltk_data]   Package stopwords is already up-to-date!\n"
          ],
          "name": "stdout"
        }
      ]
    },
    {
      "cell_type": "code",
      "metadata": {
        "id": "uPmIOT3U82F6",
        "colab_type": "code",
        "colab": {}
      },
      "source": [
        "#Calculating Accuracy, Recall, Precision, and Figure-of-Merit (f-1) score.\n",
        "#Taken help from: https://datascience.stackexchange.com/questions/45165/how-to-get-accuracy-f1-precision-and-recall-for-a-keras-model\n",
        "\n",
        "#Calculates Recall\n",
        "def rec(true_label, predicted_label):\n",
        "    true_positives = K.sum(K.round(K.clip(true_label * predicted_label, 0, 1)))\n",
        "    possible_positives = K.sum(K.round(K.clip(true_label, 0, 1)))\n",
        "    recall = true_positives / (possible_positives + K.epsilon())\n",
        "    return recall\n",
        "\n",
        "#Calculates Precision\n",
        "def prec(true_label, predicted_label):\n",
        "    true_positives = K.sum(K.round(K.clip(true_label * predicted_label, 0, 1)))\n",
        "    predicted_positives = K.sum(K.round(K.clip(predicted_label, 0, 1)))\n",
        "    precision = true_positives / (predicted_positives + K.epsilon())\n",
        "    return precision\n",
        "\n",
        "#Calculates f-1 score\n",
        "def f1_score(true_label, predicted_label):\n",
        "    precision = prec(true_label, predicted_label)\n",
        "    recall = rec(true_label, predicted_label)\n",
        "    return 2*((precision*recall)/(precision+recall+K.epsilon()))"
      ],
      "execution_count": 0,
      "outputs": []
    },
    {
      "cell_type": "code",
      "metadata": {
        "id": "KiDyoZDLmGNX",
        "colab_type": "code",
        "colab": {}
      },
      "source": [
        "link= \"https://raw.githubusercontent.com/cacoderquan/Sentiment-Analysis-on-the-Rotten-Tomatoes-movie-review-dataset/master/train.tsv\"\n",
        "movie=movie= pd.read_csv(link,sep='\\t')"
      ],
      "execution_count": 0,
      "outputs": []
    },
    {
      "cell_type": "code",
      "metadata": {
        "id": "9viUF4P5bipr",
        "colab_type": "code",
        "outputId": "29a5d38b-1fe2-477f-a8ae-eced5b7a214d",
        "colab": {
          "base_uri": "https://localhost:8080/",
          "height": 221
        }
      },
      "source": [
        "print(\"Movie: \", movie.shape)\n",
        "movie.head()"
      ],
      "execution_count": 0,
      "outputs": [
        {
          "output_type": "stream",
          "text": [
            "Movie:  (156060, 4)\n"
          ],
          "name": "stdout"
        },
        {
          "output_type": "execute_result",
          "data": {
            "text/html": [
              "<div>\n",
              "<style scoped>\n",
              "    .dataframe tbody tr th:only-of-type {\n",
              "        vertical-align: middle;\n",
              "    }\n",
              "\n",
              "    .dataframe tbody tr th {\n",
              "        vertical-align: top;\n",
              "    }\n",
              "\n",
              "    .dataframe thead th {\n",
              "        text-align: right;\n",
              "    }\n",
              "</style>\n",
              "<table border=\"1\" class=\"dataframe\">\n",
              "  <thead>\n",
              "    <tr style=\"text-align: right;\">\n",
              "      <th></th>\n",
              "      <th>PhraseId</th>\n",
              "      <th>SentenceId</th>\n",
              "      <th>Phrase</th>\n",
              "      <th>Sentiment</th>\n",
              "    </tr>\n",
              "  </thead>\n",
              "  <tbody>\n",
              "    <tr>\n",
              "      <th>0</th>\n",
              "      <td>1</td>\n",
              "      <td>1</td>\n",
              "      <td>A series of escapades demonstrating the adage ...</td>\n",
              "      <td>1</td>\n",
              "    </tr>\n",
              "    <tr>\n",
              "      <th>1</th>\n",
              "      <td>2</td>\n",
              "      <td>1</td>\n",
              "      <td>A series of escapades demonstrating the adage ...</td>\n",
              "      <td>2</td>\n",
              "    </tr>\n",
              "    <tr>\n",
              "      <th>2</th>\n",
              "      <td>3</td>\n",
              "      <td>1</td>\n",
              "      <td>A series</td>\n",
              "      <td>2</td>\n",
              "    </tr>\n",
              "    <tr>\n",
              "      <th>3</th>\n",
              "      <td>4</td>\n",
              "      <td>1</td>\n",
              "      <td>A</td>\n",
              "      <td>2</td>\n",
              "    </tr>\n",
              "    <tr>\n",
              "      <th>4</th>\n",
              "      <td>5</td>\n",
              "      <td>1</td>\n",
              "      <td>series</td>\n",
              "      <td>2</td>\n",
              "    </tr>\n",
              "  </tbody>\n",
              "</table>\n",
              "</div>"
            ],
            "text/plain": [
              "   PhraseId  ...  Sentiment\n",
              "0         1  ...          1\n",
              "1         2  ...          2\n",
              "2         3  ...          2\n",
              "3         4  ...          2\n",
              "4         5  ...          2\n",
              "\n",
              "[5 rows x 4 columns]"
            ]
          },
          "metadata": {
            "tags": []
          },
          "execution_count": 123
        }
      ]
    },
    {
      "cell_type": "code",
      "metadata": {
        "id": "xAiTdRq-dqe_",
        "colab_type": "code",
        "colab": {}
      },
      "source": [
        "# #dropping unnecessary columns\n",
        "# movie= movies.drop(['PhraseId','SentenceId'],axis=1)\n",
        "# movie.head()"
      ],
      "execution_count": 0,
      "outputs": []
    },
    {
      "cell_type": "code",
      "metadata": {
        "id": "8balMJ6Elmlf",
        "colab_type": "code",
        "outputId": "4b0ca235-d590-4cef-c25b-964c3eac34a1",
        "colab": {
          "base_uri": "https://localhost:8080/",
          "height": 255
        }
      },
      "source": [
        "result= movie.isnull()\n",
        "print(result)"
      ],
      "execution_count": 0,
      "outputs": [
        {
          "output_type": "stream",
          "text": [
            "        PhraseId  SentenceId  Phrase  Sentiment\n",
            "0          False       False   False      False\n",
            "1          False       False   False      False\n",
            "2          False       False   False      False\n",
            "3          False       False   False      False\n",
            "4          False       False   False      False\n",
            "...          ...         ...     ...        ...\n",
            "156055     False       False   False      False\n",
            "156056     False       False   False      False\n",
            "156057     False       False   False      False\n",
            "156058     False       False   False      False\n",
            "156059     False       False   False      False\n",
            "\n",
            "[156060 rows x 4 columns]\n"
          ],
          "name": "stdout"
        }
      ]
    },
    {
      "cell_type": "code",
      "metadata": {
        "id": "LXQKCJk3kRVV",
        "colab_type": "code",
        "colab": {}
      },
      "source": [
        "# movie.tail()\n"
      ],
      "execution_count": 0,
      "outputs": []
    },
    {
      "cell_type": "code",
      "metadata": {
        "id": "LoNHk0svlH4C",
        "colab_type": "code",
        "outputId": "4dee0966-72ab-4aca-f266-de534b328b87",
        "colab": {
          "base_uri": "https://localhost:8080/",
          "height": 170
        }
      },
      "source": [
        "len(movie.SentenceId.unique())\n",
        "movie.info()"
      ],
      "execution_count": 0,
      "outputs": [
        {
          "output_type": "stream",
          "text": [
            "<class 'pandas.core.frame.DataFrame'>\n",
            "RangeIndex: 156060 entries, 0 to 156059\n",
            "Data columns (total 4 columns):\n",
            "PhraseId      156060 non-null int64\n",
            "SentenceId    156060 non-null int64\n",
            "Phrase        156060 non-null object\n",
            "Sentiment     156060 non-null int64\n",
            "dtypes: int64(3), object(1)\n",
            "memory usage: 4.8+ MB\n"
          ],
          "name": "stdout"
        }
      ]
    },
    {
      "cell_type": "code",
      "metadata": {
        "id": "kiyXk1ox1WMa",
        "colab_type": "code",
        "outputId": "5de5b66a-8a5a-4a08-b579-afbcfd139f92",
        "colab": {
          "base_uri": "https://localhost:8080/",
          "height": 119
        }
      },
      "source": [
        "movie.Sentiment.value_counts()"
      ],
      "execution_count": 0,
      "outputs": [
        {
          "output_type": "execute_result",
          "data": {
            "text/plain": [
              "2    79582\n",
              "3    32927\n",
              "1    27273\n",
              "4     9206\n",
              "0     7072\n",
              "Name: Sentiment, dtype: int64"
            ]
          },
          "metadata": {
            "tags": []
          },
          "execution_count": 127
        }
      ]
    },
    {
      "cell_type": "code",
      "metadata": {
        "id": "0AwjVW3I1ejh",
        "colab_type": "code",
        "colab": {
          "base_uri": "https://localhost:8080/",
          "height": 279
        },
        "outputId": "9a3bc1a6-6ce6-4ece-f13a-94299949120c"
      },
      "source": [
        "graph=movie.groupby('Sentiment').count()\n",
        "plt.bar(graph.index.values, graph['Phrase'])\n",
        "plt.xlabel('Review Sentiments')\n",
        "plt.ylabel('Number of Review')\n",
        "plt.show()"
      ],
      "execution_count": 149,
      "outputs": [
        {
          "output_type": "display_data",
          "data": {
            "image/png": "[encoded data removed]",
            "text/plain": [
              "<Figure size 432x288 with 1 Axes>"
            ]
          },
          "metadata": {
            "tags": []
          }
        }
      ]
    },
    {
      "cell_type": "code",
      "metadata": {
        "id": "ZAv7UTr8lxFV",
        "colab_type": "code",
        "outputId": "8f54e0ff-690f-4995-9720-c062ba02ef21",
        "colab": {
          "base_uri": "https://localhost:8080/",
          "height": 255
        }
      },
      "source": [
        "#Creating a dataset with full sentences\n",
        "sentence_raw_data = movie.loc[movie.groupby('SentenceId')['PhraseId'].idxmin()]\n",
        "print(sentence_raw_data)\n"
      ],
      "execution_count": 0,
      "outputs": [
        {
          "output_type": "stream",
          "text": [
            "        PhraseId  ...  Sentiment\n",
            "0              1  ...          1\n",
            "63            64  ...          4\n",
            "81            82  ...          1\n",
            "116          117  ...          3\n",
            "156          157  ...          1\n",
            "...          ...  ...        ...\n",
            "155984    155985  ...          2\n",
            "155997    155998  ...          2\n",
            "156021    156022  ...          1\n",
            "156031    156032  ...          1\n",
            "156039    156040  ...          2\n",
            "\n",
            "[8529 rows x 4 columns]\n"
          ],
          "name": "stdout"
        }
      ]
    },
    {
      "cell_type": "code",
      "metadata": {
        "id": "sd2CRHnQn_o3",
        "colab_type": "code",
        "outputId": "55443c21-4c42-4d07-9f88-999f2e1ca4f2",
        "colab": {
          "base_uri": "https://localhost:8080/",
          "height": 204
        }
      },
      "source": [
        "sentence_raw_data.head()"
      ],
      "execution_count": 0,
      "outputs": [
        {
          "output_type": "execute_result",
          "data": {
            "text/html": [
              "<div>\n",
              "<style scoped>\n",
              "    .dataframe tbody tr th:only-of-type {\n",
              "        vertical-align: middle;\n",
              "    }\n",
              "\n",
              "    .dataframe tbody tr th {\n",
              "        vertical-align: top;\n",
              "    }\n",
              "\n",
              "    .dataframe thead th {\n",
              "        text-align: right;\n",
              "    }\n",
              "</style>\n",
              "<table border=\"1\" class=\"dataframe\">\n",
              "  <thead>\n",
              "    <tr style=\"text-align: right;\">\n",
              "      <th></th>\n",
              "      <th>PhraseId</th>\n",
              "      <th>SentenceId</th>\n",
              "      <th>Phrase</th>\n",
              "      <th>Sentiment</th>\n",
              "    </tr>\n",
              "  </thead>\n",
              "  <tbody>\n",
              "    <tr>\n",
              "      <th>0</th>\n",
              "      <td>1</td>\n",
              "      <td>1</td>\n",
              "      <td>A series of escapades demonstrating the adage ...</td>\n",
              "      <td>1</td>\n",
              "    </tr>\n",
              "    <tr>\n",
              "      <th>63</th>\n",
              "      <td>64</td>\n",
              "      <td>2</td>\n",
              "      <td>This quiet , introspective and entertaining in...</td>\n",
              "      <td>4</td>\n",
              "    </tr>\n",
              "    <tr>\n",
              "      <th>81</th>\n",
              "      <td>82</td>\n",
              "      <td>3</td>\n",
              "      <td>Even fans of Ismail Merchant 's work , I suspe...</td>\n",
              "      <td>1</td>\n",
              "    </tr>\n",
              "    <tr>\n",
              "      <th>116</th>\n",
              "      <td>117</td>\n",
              "      <td>4</td>\n",
              "      <td>A positively thrilling combination of ethnogra...</td>\n",
              "      <td>3</td>\n",
              "    </tr>\n",
              "    <tr>\n",
              "      <th>156</th>\n",
              "      <td>157</td>\n",
              "      <td>5</td>\n",
              "      <td>Aggressive self-glorification and a manipulati...</td>\n",
              "      <td>1</td>\n",
              "    </tr>\n",
              "  </tbody>\n",
              "</table>\n",
              "</div>"
            ],
            "text/plain": [
              "     PhraseId  ...  Sentiment\n",
              "0           1  ...          1\n",
              "63         64  ...          4\n",
              "81         82  ...          1\n",
              "116       117  ...          3\n",
              "156       157  ...          1\n",
              "\n",
              "[5 rows x 4 columns]"
            ]
          },
          "metadata": {
            "tags": []
          },
          "execution_count": 130
        }
      ]
    },
    {
      "cell_type": "code",
      "metadata": {
        "id": "oHc7w6tCWwry",
        "colab_type": "code",
        "colab": {}
      },
      "source": [
        "# print(movie.Phrase[:5])"
      ],
      "execution_count": 0,
      "outputs": []
    },
    {
      "cell_type": "code",
      "metadata": {
        "id": "Z4LjxRMyULRg",
        "colab_type": "code",
        "outputId": "2d69a809-7f5f-4b60-c499-28bda93692e3",
        "colab": {
          "base_uri": "https://localhost:8080/",
          "height": 136
        }
      },
      "source": [
        "#NLP Process\n",
        "#Here we are removing the punctuation and converting to lowercase.\n",
        "import string\n",
        "print('Punctuation:',string.punctuation)\n",
        "\n",
        "# This line of code is converting all the uppercase words to lowercase\n",
        "movie.Phrase=movie.Phrase.apply(lambda x: x.translate(str.maketrans('','',string.punctuation)).lower())\n",
        "print('lowercase:',movie.Phrase[:5])\n"
      ],
      "execution_count": 0,
      "outputs": [
        {
          "output_type": "stream",
          "text": [
            "Punctuation: !\"#$%&'()*+,-./:;<=>?@[\\]^_`{|}~\n",
            "lowercase: 0    a series of escapades demonstrating the adage ...\n",
            "1    a series of escapades demonstrating the adage ...\n",
            "2                                             a series\n",
            "3                                                    a\n",
            "4                                               series\n",
            "Name: Phrase, dtype: object\n"
          ],
          "name": "stdout"
        }
      ]
    },
    {
      "cell_type": "code",
      "metadata": {
        "id": "rj1q4oL3XIC_",
        "colab_type": "code",
        "colab": {}
      },
      "source": [
        "#Tokenize sentences\n",
        "movie.Phrase=movie.Phrase.str.split(' ')"
      ],
      "execution_count": 0,
      "outputs": []
    },
    {
      "cell_type": "code",
      "metadata": {
        "id": "O-Vr2THKXfZc",
        "colab_type": "code",
        "outputId": "b0f07710-c2af-43f4-a938-86178006e72b",
        "colab": {
          "base_uri": "https://localhost:8080/",
          "height": 119
        }
      },
      "source": [
        "movie.Phrase[:5]"
      ],
      "execution_count": 0,
      "outputs": [
        {
          "output_type": "execute_result",
          "data": {
            "text/plain": [
              "0    [a, series, of, escapades, demonstrating, the,...\n",
              "1    [a, series, of, escapades, demonstrating, the,...\n",
              "2                                          [a, series]\n",
              "3                                                  [a]\n",
              "4                                             [series]\n",
              "Name: Phrase, dtype: object"
            ]
          },
          "metadata": {
            "tags": []
          },
          "execution_count": 134
        }
      ]
    },
    {
      "cell_type": "code",
      "metadata": {
        "id": "j21QgalxoLey",
        "colab_type": "code",
        "outputId": "4fb131ed-23ad-4b26-943c-0ac1b59df808",
        "colab": {
          "base_uri": "https://localhost:8080/",
          "height": 173
        }
      },
      "source": [
        "#Removal of stop words\n",
        "#import nltk\n",
        "\n",
        "stop_word=stopwords.words('english')\n",
        "print(\"Stop Words: \",stop_word,\"\\n\")\n",
        "\n",
        "movie.Phrase=[w for w in movie.Phrase if w not in stop_word]\n",
        "movie.Phrase.head()"
      ],
      "execution_count": 0,
      "outputs": [
        {
          "output_type": "stream",
          "text": [
            "Stop Words:  ['i', 'me', 'my', 'myself', 'we', 'our', 'ours', 'ourselves', 'you', \"you're\", \"you've\", \"you'll\", \"you'd\", 'your', 'yours', 'yourself', 'yourselves', 'he', 'him', 'his', 'himself', 'she', \"she's\", 'her', 'hers', 'herself', 'it', \"it's\", 'its', 'itself', 'they', 'them', 'their', 'theirs', 'themselves', 'what', 'which', 'who', 'whom', 'this', 'that', \"that'll\", 'these', 'those', 'am', 'is', 'are', 'was', 'were', 'be', 'been', 'being', 'have', 'has', 'had', 'having', 'do', 'does', 'did', 'doing', 'a', 'an', 'the', 'and', 'but', 'if', 'or', 'because', 'as', 'until', 'while', 'of', 'at', 'by', 'for', 'with', 'about', 'against', 'between', 'into', 'through', 'during', 'before', 'after', 'above', 'below', 'to', 'from', 'up', 'down', 'in', 'out', 'on', 'off', 'over', 'under', 'again', 'further', 'then', 'once', 'here', 'there', 'when', 'where', 'why', 'how', 'all', 'any', 'both', 'each', 'few', 'more', 'most', 'other', 'some', 'such', 'no', 'nor', 'not', 'only', 'own', 'same', 'so', 'than', 'too', 'very', 's', 't', 'can', 'will', 'just', 'don', \"don't\", 'should', \"should've\", 'now', 'd', 'll', 'm', 'o', 're', 've', 'y', 'ain', 'aren', \"aren't\", 'couldn', \"couldn't\", 'didn', \"didn't\", 'doesn', \"doesn't\", 'hadn', \"hadn't\", 'hasn', \"hasn't\", 'haven', \"haven't\", 'isn', \"isn't\", 'ma', 'mightn', \"mightn't\", 'mustn', \"mustn't\", 'needn', \"needn't\", 'shan', \"shan't\", 'shouldn', \"shouldn't\", 'wasn', \"wasn't\", 'weren', \"weren't\", 'won', \"won't\", 'wouldn', \"wouldn't\"] \n",
            "\n"
          ],
          "name": "stdout"
        },
        {
          "output_type": "execute_result",
          "data": {
            "text/plain": [
              "0    [a, series, of, escapades, demonstrating, the,...\n",
              "1    [a, series, of, escapades, demonstrating, the,...\n",
              "2                                          [a, series]\n",
              "3                                                  [a]\n",
              "4                                             [series]\n",
              "Name: Phrase, dtype: object"
            ]
          },
          "metadata": {
            "tags": []
          },
          "execution_count": 135
        }
      ]
    },
    {
      "cell_type": "code",
      "metadata": {
        "id": "AqHSfAHKx8CB",
        "colab_type": "code",
        "colab": {}
      },
      "source": [
        "#Text Normalization\n",
        "#Stemming words\n",
        "\n",
        "porter = PorterStemmer()\n",
        "movie.Phrase=movie.Phrase.apply(lambda x: [porter.stem(w) for w in x])\n",
        "\n",
        "#Lemmatize words\n",
        "wordnet_lemmatizer = WordNetLemmatizer()\n",
        "movie.Phrase=movie.Phrase.apply(lambda x: [wordnet_lemmatizer.lemmatize(w) for w in x])\n",
        "\n",
        "# lancaster=LancasterStemmer()\n",
        "# remove_stopwords = True\n",
        "# useStemming = True\n",
        "# useLemma = False\n",
        "# removePuncs = True"
      ],
      "execution_count": 0,
      "outputs": []
    },
    {
      "cell_type": "code",
      "metadata": {
        "id": "LnKtGl4a2OuH",
        "colab_type": "code",
        "outputId": "f0547025-3c7e-4b98-dad9-47981aa70797",
        "colab": {
          "base_uri": "https://localhost:8080/",
          "height": 221
        }
      },
      "source": [
        "#Features\n",
        "bow_vector = CountVectorizer(ngram_range=(1,1),\n",
        "                             stop_words=stop_word)\n",
        "\n",
        "bow_vector.fit(list(sentence_raw_data['Phrase']))"
      ],
      "execution_count": 0,
      "outputs": [
        {
          "output_type": "execute_result",
          "data": {
            "text/plain": [
              "CountVectorizer(analyzer='word', binary=False, decode_error='strict',\n",
              "                dtype=<class 'numpy.int64'>, encoding='utf-8', input='content',\n",
              "                lowercase=True, max_df=1.0, max_features=None, min_df=1,\n",
              "                ngram_range=(1, 1), preprocessor=None,\n",
              "                stop_words=['i', 'me', 'my', 'myself', 'we', 'our', 'ours',\n",
              "                            'ourselves', 'you', \"you're\", \"you've\", \"you'll\",\n",
              "                            \"you'd\", 'your', 'yours', 'yourself', 'yourselves',\n",
              "                            'he', 'him', 'his', 'himself', 'she', \"she's\",\n",
              "                            'her', 'hers', 'herself', 'it', \"it's\", 'its',\n",
              "                            'itself', ...],\n",
              "                strip_accents=None, token_pattern='(?u)\\\\b\\\\w\\\\w+\\\\b',\n",
              "                tokenizer=None, vocabulary=None)"
            ]
          },
          "metadata": {
            "tags": []
          },
          "execution_count": 137
        }
      ]
    },
    {
      "cell_type": "code",
      "metadata": {
        "id": "ljgt0EO125u1",
        "colab_type": "code",
        "colab": {}
      },
      "source": [
        "#Processing the dataset: Training & Testing \n",
        "X = np.array(sentence_raw_data['Phrase'])\n",
        "Y = np.array(sentence_raw_data['Sentiment'])\n",
        "# X[0], Y[0]"
      ],
      "execution_count": 0,
      "outputs": []
    },
    {
      "cell_type": "code",
      "metadata": {
        "id": "RJ3mVvpa5d7k",
        "colab_type": "code",
        "outputId": "76a7c8ec-dfd0-4067-e55d-76d773a4a702",
        "colab": {
          "base_uri": "https://localhost:8080/",
          "height": 85
        }
      },
      "source": [
        "#Splitting dataset: 70% training & 30% testing\n",
        "x_train, x_test, y_train, y_test = train_test_split(X,Y,test_size=0.3, random_state=2003)\n",
        "\n",
        "print(\"x_train:\",x_train.shape)\n",
        "print(\"x_test:\",x_test.shape)\n",
        "print(\"y_train:\",y_train.shape)\n",
        "print(\"y_test:\",y_test.shape)\n",
        "                                                                             "
      ],
      "execution_count": 0,
      "outputs": [
        {
          "output_type": "stream",
          "text": [
            "x_train: (5970,)\n",
            "x_test: (2559,)\n",
            "y_train: (5970,)\n",
            "y_test: (2559,)\n"
          ],
          "name": "stdout"
        }
      ]
    },
    {
      "cell_type": "code",
      "metadata": {
        "id": "E8OD9j_f70gU",
        "colab_type": "code",
        "colab": {}
      },
      "source": [
        "#Vectorizer (Bag of Words Model)\n",
        "A = bow_vector.transform(x_train)\n",
        "#print(\"A:\",A)\n",
        "B = bow_vector.transform(x_test)\n",
        "#print(\"B:\",B)"
      ],
      "execution_count": 0,
      "outputs": []
    },
    {
      "cell_type": "code",
      "metadata": {
        "id": "ExIHfCeAGk7q",
        "colab_type": "code",
        "colab": {}
      },
      "source": [
        "#Defining the model\n",
        "\n",
        "#Define the batch size\n",
        "\n",
        "batch_size = 128\n",
        "learning_rate = 1e-5\n",
        "epochs = 10\n",
        "n_class= 5\n",
        "mode = \"reg\"\n",
        "decay = 1e-3"
      ],
      "execution_count": 0,
      "outputs": []
    },
    {
      "cell_type": "code",
      "metadata": {
        "id": "Dl8inaAtDmRg",
        "colab_type": "code",
        "outputId": "765249ff-ddbb-469b-87d9-e47cda068bed",
        "colab": {
          "base_uri": "https://localhost:8080/",
          "height": 68
        }
      },
      "source": [
        "bow_feature_vec = pd.DataFrame(A.toarray(), columns = bow_vector.get_feature_names())\n",
        "bow_feature_vec.head()\n",
        "\n",
        "bow_feature_vec_test = pd.DataFrame(B.toarray(), columns = bow_vector.get_feature_names())\n",
        "bow_feature_vec_test.head()\n",
        "\n",
        "\n",
        "\n",
        "fea_vec_dim = bow_feature_vec.shape[1]\n",
        "print(fea_vec_dim, n_class)\n",
        "\n",
        "x_train = bow_feature_vec.values.reshape((bow_feature_vec.shape[0], bow_feature_vec.shape[1], 1))\n",
        "x_train.shape\n",
        "\n",
        "\n",
        "\n",
        "fea_vec_test_dim = bow_feature_vec_test.shape[1]\n",
        "print(fea_vec_test_dim, n_class)\n",
        "\n",
        "x_test = bow_feature_vec_test.values.reshape((bow_feature_vec_test.shape[0], bow_feature_vec_test.shape[1], 1))\n",
        "x_test.shape\n",
        "\n",
        "\n"
      ],
      "execution_count": 0,
      "outputs": [
        {
          "output_type": "stream",
          "text": [
            "15040 5\n",
            "15040 5\n"
          ],
          "name": "stdout"
        },
        {
          "output_type": "execute_result",
          "data": {
            "text/plain": [
              "(2559, 15040, 1)"
            ]
          },
          "metadata": {
            "tags": []
          },
          "execution_count": 142
        }
      ]
    },
    {
      "cell_type": "code",
      "metadata": {
        "id": "0dCOizeVF-i5",
        "colab_type": "code",
        "colab": {}
      },
      "source": [
        "#took help from: https://www.programcreek.com/python/example/93293/keras.layers.convolutional.Conv1D\n",
        "#Creating CNN network\n",
        "def cnn_network(feature_matrix, n_class, mode, optimizer):\n",
        "  model = Sequential()\n",
        "  # keras.layers.UpSampling1D(size=2)\n",
        "  # model.add(Embedding(10000, 150, input_length=125))\n",
        "  #model.add(SpatialDropout1D(0.2))\n",
        "  model.add(Conv1D(64, kernel_size=3, padding='same',input_shape=(feature_matrix.shape[1], feature_matrix.shape[2])))\n",
        "  model.add(Activation('relu'))\n",
        "  model.add(MaxPooling1D(pool_size=2))\n",
        "  model.add(Dropout(0.8))\n",
        "  # model.add(Conv1D(128, kernel_size=3, padding='same'))\n",
        "  # model.add(Activation('relu'))\n",
        "  # model.add(MaxPooling1D(pool_size=2))\n",
        "  model.add(Dropout(0.8))\n",
        "  model.add(Flatten())\n",
        "  model.add(Activation('relu'))\n",
        "  model.add(Dense(n_class, activation='softmax'))\n",
        "  model.compile(loss='sparse_categorical_crossentropy', optimizer='adam', metrics=['accuracy',f1_score, prec, rec])\n",
        "\n",
        "  return model "
      ],
      "execution_count": 0,
      "outputs": []
    },
    {
      "cell_type": "code",
      "metadata": {
        "id": "QojSf7NC9KI4",
        "colab_type": "code",
        "outputId": "c813d539-caaf-4fc1-bcd9-1521ea8b8f7e",
        "colab": {
          "base_uri": "https://localhost:8080/",
          "height": 425
        }
      },
      "source": [
        "#Taken help from: https://keras.io/optimizers/\n",
        "opti_1= optimizers.Adam(lr = learning_rate, decay = decay)\n",
        "model= cnn_network(x_train,n_class,mode,opti_1)\n",
        "model.summary()"
      ],
      "execution_count": 0,
      "outputs": [
        {
          "output_type": "stream",
          "text": [
            "Model: \"sequential_5\"\n",
            "_________________________________________________________________\n",
            "Layer (type)                 Output Shape              Param #   \n",
            "=================================================================\n",
            "conv1d_6 (Conv1D)            (None, 15040, 64)         256       \n",
            "_________________________________________________________________\n",
            "activation_10 (Activation)   (None, 15040, 64)         0         \n",
            "_________________________________________________________________\n",
            "max_pooling1d_6 (MaxPooling1 (None, 7520, 64)          0         \n",
            "_________________________________________________________________\n",
            "dropout_9 (Dropout)          (None, 7520, 64)          0         \n",
            "_________________________________________________________________\n",
            "dropout_10 (Dropout)         (None, 7520, 64)          0         \n",
            "_________________________________________________________________\n",
            "flatten_5 (Flatten)          (None, 481280)            0         \n",
            "_________________________________________________________________\n",
            "activation_11 (Activation)   (None, 481280)            0         \n",
            "_________________________________________________________________\n",
            "dense_5 (Dense)              (None, 5)                 2406405   \n",
            "=================================================================\n",
            "Total params: 2,406,661\n",
            "Trainable params: 2,406,661\n",
            "Non-trainable params: 0\n",
            "_________________________________________________________________\n"
          ],
          "name": "stdout"
        }
      ]
    },
    {
      "cell_type": "code",
      "metadata": {
        "id": "V7zBYBfVGXIa",
        "colab_type": "code",
        "outputId": "dfd3e405-5f89-4171-8f44-e19e07fe9fa3",
        "colab": {
          "base_uri": "https://localhost:8080/",
          "height": 357
        }
      },
      "source": [
        "accuracy_loss= model.fit(x_train, y_train, epochs=epochs, batch_size=batch_size, verbose=2)"
      ],
      "execution_count": 0,
      "outputs": [
        {
          "output_type": "stream",
          "text": [
            "Epoch 1/10\n",
            " - 4s - loss: 1.5735 - acc: 0.2772 - f1_score: 4.0850 - prec: 2270502479.6302 - rec: 2.0425\n",
            "Epoch 2/10\n",
            " - 3s - loss: 1.5326 - acc: 0.3246 - f1_score: 3.9748 - prec: 2017162454.5126 - rec: 1.9893\n",
            "Epoch 3/10\n",
            " - 3s - loss: 1.4767 - acc: 0.3655 - f1_score: 3.8709 - prec: 650720345.4250 - rec: 1.9634\n",
            "Epoch 4/10\n",
            " - 3s - loss: 1.4100 - acc: 0.4176 - f1_score: 3.4687 - prec: 35.2465 - rec: 1.8594\n",
            "Epoch 5/10\n",
            " - 3s - loss: 1.3320 - acc: 0.4588 - f1_score: 3.0040 - prec: 10.9956 - rec: 1.7631\n",
            "Epoch 6/10\n",
            " - 3s - loss: 1.2723 - acc: 0.4858 - f1_score: 2.6304 - prec: 6.2723 - rec: 1.6807\n",
            "Epoch 7/10\n",
            " - 3s - loss: 1.2077 - acc: 0.5193 - f1_score: 2.3701 - prec: 4.4648 - rec: 1.6240\n",
            "Epoch 8/10\n",
            " - 3s - loss: 1.1672 - acc: 0.5363 - f1_score: 2.2061 - prec: 3.5790 - rec: 1.6020\n",
            "Epoch 9/10\n",
            " - 3s - loss: 1.1222 - acc: 0.5630 - f1_score: 2.0116 - prec: 2.9184 - rec: 1.5409\n",
            "Epoch 10/10\n",
            " - 3s - loss: 1.0974 - acc: 0.5610 - f1_score: 1.9339 - prec: 2.6606 - rec: 1.5248\n"
          ],
          "name": "stdout"
        }
      ]
    },
    {
      "cell_type": "code",
      "metadata": {
        "id": "4AuKtKb1sIfk",
        "colab_type": "code",
        "colab": {}
      },
      "source": [
        "def get_metrics(accuracy, f1_score, precision, recall):\n",
        "  print('Accuracy: ', np.round(accuracy, 4))\n",
        "  print('Precision: ', np.round(precision, 4))\n",
        "  print('Recall: ', np.round(recall, 4))\n",
        "  print('F1 Score: ', np.round(f1_score, 4))"
      ],
      "execution_count": 0,
      "outputs": []
    },
    {
      "cell_type": "code",
      "metadata": {
        "id": "HdArCcVksNyj",
        "colab_type": "code",
        "outputId": "500a0f48-7654-4482-dffa-60a60995b1bf",
        "colab": {
          "base_uri": "https://localhost:8080/",
          "height": 102
        }
      },
      "source": [
        "loss, accuracy, f1_score, precision, recall = model.evaluate(x_test, y_test)\n",
        "get_metrics(accuracy, f1_score, precision, recall)"
      ],
      "execution_count": 0,
      "outputs": [
        {
          "output_type": "stream",
          "text": [
            "2559/2559 [==============================] - 1s 332us/step\n",
            "Accuracy:  0.3923\n",
            "Precision:  5.8674\n",
            "Recall:  1.6554\n",
            "F1 Score:  2.536\n"
          ],
          "name": "stdout"
        }
      ]
    },
    {
      "cell_type": "code",
      "metadata": {
        "id": "omUr_p2ip396",
        "colab_type": "code",
        "colab": {
          "base_uri": "https://localhost:8080/",
          "height": 298
        },
        "outputId": "ff39c07a-5692-4903-d0d4-90aa8261b6df"
      },
      "source": [
        "print(accuracy_loss.history.keys())\n",
        "plt.plot(accuracy_loss.history['loss'])\n",
        "plt.title('Loss')\n",
        "\n",
        "plt.show()\n"
      ],
      "execution_count": 154,
      "outputs": [
        {
          "output_type": "stream",
          "text": [
            "dict_keys(['loss', 'acc', 'f1_score', 'prec', 'rec'])\n"
          ],
          "name": "stdout"
        },
        {
          "output_type": "display_data",
          "data": {
            "image/png": "[encoded data removed]",
            "text/plain": [
              "<Figure size 432x288 with 1 Axes>"
            ]
          },
          "metadata": {
            "tags": []
          }
        }
      ]
    },
    {
      "cell_type": "code",
      "metadata": {
        "id": "VL9ixkaCrP6k",
        "colab_type": "code",
        "colab": {
          "base_uri": "https://localhost:8080/",
          "height": 281
        },
        "outputId": "411adeb2-8d85-47db-c927-5f4959ba925a"
      },
      "source": [
        "plt.plot(accuracy_loss.history['acc'])\n",
        "plt.title('Accuracy')\n",
        "\n",
        "plt.show()\n"
      ],
      "execution_count": 155,
      "outputs": [
        {
          "output_type": "display_data",
          "data": {
            "image/png": "[encoded data removed]",
            "text/plain": [
              "<Figure size 432x288 with 1 Axes>"
            ]
          },
          "metadata": {
            "tags": []
          }
        }
      ]
    },
    {
      "cell_type": "code",
      "metadata": {
        "id": "KTqmf9turd5I",
        "colab_type": "code",
        "colab": {
          "base_uri": "https://localhost:8080/",
          "height": 281
        },
        "outputId": "1538ad34-76ca-43ce-8d42-06a823bac1ae"
      },
      "source": [
        "plt.plot(accuracy_loss.history['f1_score'])\n",
        "plt.title('F1 measure')\n",
        "\n",
        "plt.show()"
      ],
      "execution_count": 158,
      "outputs": [
        {
          "output_type": "display_data",
          "data": {
            "image/png": "[encoded data removed]",
            "text/plain": [
              "<Figure size 432x288 with 1 Axes>"
            ]
          },
          "metadata": {
            "tags": []
          }
        }
      ]
    },
    {
      "cell_type": "code",
      "metadata": {
        "id": "dY5At_ZPrkqz",
        "colab_type": "code",
        "colab": {
          "base_uri": "https://localhost:8080/",
          "height": 281
        },
        "outputId": "3787eb7d-f0bc-491a-ca50-b28f25200b85"
      },
      "source": [
        "plt.plot(accuracy_loss.history['prec'])\n",
        "plt.title('Precision Measure')\n",
        "\n",
        "plt.show()"
      ],
      "execution_count": 159,
      "outputs": [
        {
          "output_type": "display_data",
          "data": {
            "image/png": "[encoded data removed]",
            "text/plain": [
              "<Figure size 432x288 with 1 Axes>"
            ]
          },
          "metadata": {
            "tags": []
          }
        }
      ]
    },
    {
      "cell_type": "code",
      "metadata": {
        "id": "Ib3wg8jtrnHf",
        "colab_type": "code",
        "colab": {
          "base_uri": "https://localhost:8080/",
          "height": 281
        },
        "outputId": "55309025-dc5f-4f50-8325-12c2ebc5da0d"
      },
      "source": [
        "plt.plot(accuracy_loss.history['rec'])\n",
        "plt.title('Recall Measure')\n",
        "\n",
        "plt.show()"
      ],
      "execution_count": 160,
      "outputs": [
        {
          "output_type": "display_data",
          "data": {
            "image/png": "[encoded data removed]",
            "text/plain": [
              "<Figure size 432x288 with 1 Axes>"
            ]
          },
          "metadata": {
            "tags": []
          }
        }
      ]
    }
  ]
}